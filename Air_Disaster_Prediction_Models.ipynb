{
  "nbformat": 4,
  "nbformat_minor": 0,
  "metadata": {
    "colab": {
      "name": "Air Disaster Prediction Models.ipynb",
      "provenance": [],
      "collapsed_sections": [],
      "authorship_tag": "ABX9TyNKEz9W9bKfQaES5BOSDfuv",
      "include_colab_link": true
    },
    "kernelspec": {
      "name": "python3",
      "display_name": "Python 3"
    },
    "accelerator": "GPU"
  },
  "cells": [
    {
      "cell_type": "markdown",
      "metadata": {
        "id": "view-in-github",
        "colab_type": "text"
      },
      "source": [
        "<a href=\"https://colab.research.google.com/github/heytanay/air-disaster-prediction/blob/master/Air_Disaster_Prediction_Models.ipynb\" target=\"_parent\"><img src=\"https://colab.research.google.com/assets/colab-badge.svg\" alt=\"Open In Colab\"/></a>"
      ]
    },
    {
      "cell_type": "code",
      "metadata": {
        "id": "Wb6YQxsoDd1o",
        "colab_type": "code",
        "colab": {
          "base_uri": "https://localhost:8080/",
          "height": 79
        },
        "outputId": "b1495188-243f-4c5c-f6e8-5fc510669638"
      },
      "source": [
        "import pandas as pd\n",
        "import numpy as np\n",
        "import matplotlib.pyplot as plt\n",
        "from sklearn.linear_model import LogisticRegression\n",
        "from sklearn.tree import DecisionTreeClassifier\n",
        "from sklearn.naive_bayes import GaussianNB\n",
        "from sklearn.svm import SVC\n",
        "import tensorflow as tf\n",
        "import keras\n",
        "import seaborn as sns\n",
        "from sklearn.preprocessing import StandardScaler\n",
        "from tensorflow.keras.utils import to_categorical\n",
        "from sklearn.model_selection import train_test_split"
      ],
      "execution_count": 1,
      "outputs": [
        {
          "output_type": "display_data",
          "data": {
            "text/html": [
              "<p style=\"color: red;\">\n",
              "The default version of TensorFlow in Colab will soon switch to TensorFlow 2.x.<br>\n",
              "We recommend you <a href=\"https://www.tensorflow.org/guide/migrate\" target=\"_blank\">upgrade</a> now \n",
              "or ensure your notebook will continue to use TensorFlow 1.x via the <code>%tensorflow_version 1.x</code> magic:\n",
              "<a href=\"https://colab.research.google.com/notebooks/tensorflow_version.ipynb\" target=\"_blank\">more info</a>.</p>\n"
            ],
            "text/plain": [
              "<IPython.core.display.HTML object>"
            ]
          },
          "metadata": {
            "tags": []
          }
        },
        {
          "output_type": "stream",
          "text": [
            "Using TensorFlow backend.\n"
          ],
          "name": "stderr"
        }
      ]
    },
    {
      "cell_type": "code",
      "metadata": {
        "id": "0beCzwNFDMRt",
        "colab_type": "code",
        "colab": {
          "base_uri": "https://localhost:8080/",
          "height": 221
        },
        "outputId": "9a009a48-596b-4f24-fa8c-838a29b90667"
      },
      "source": [
        "# Get the data\n",
        "!wget \"https://he-s3.s3.amazonaws.com/media/hackathon/airplane-accident-severity-hackerearth-machine-learning-challenge/how-severe-can-an-airplane-accident-be-03e7a3f1/3c055e822d5b11ea.zip\""
      ],
      "execution_count": 2,
      "outputs": [
        {
          "output_type": "stream",
          "text": [
            "--2020-01-21 12:58:44--  https://he-s3.s3.amazonaws.com/media/hackathon/airplane-accident-severity-hackerearth-machine-learning-challenge/how-severe-can-an-airplane-accident-be-03e7a3f1/3c055e822d5b11ea.zip\n",
            "Resolving he-s3.s3.amazonaws.com (he-s3.s3.amazonaws.com)... 52.219.36.28\n",
            "Connecting to he-s3.s3.amazonaws.com (he-s3.s3.amazonaws.com)|52.219.36.28|:443... connected.\n",
            "HTTP request sent, awaiting response... 200 OK\n",
            "Length: 555584 (543K) [application/zip]\n",
            "Saving to: ‘3c055e822d5b11ea.zip’\n",
            "\n",
            "\r3c055e822d5b11ea.zi   0%[                    ]       0  --.-KB/s               \r3c055e822d5b11ea.zi 100%[===================>] 542.56K  --.-KB/s    in 0.03s   \n",
            "\n",
            "2020-01-21 12:58:44 (16.2 MB/s) - ‘3c055e822d5b11ea.zip’ saved [555584/555584]\n",
            "\n"
          ],
          "name": "stdout"
        }
      ]
    },
    {
      "cell_type": "code",
      "metadata": {
        "id": "r1xvgkACDW1V",
        "colab_type": "code",
        "colab": {
          "base_uri": "https://localhost:8080/",
          "height": 84
        },
        "outputId": "90994317-26d5-4bd9-8dab-eb549902def3"
      },
      "source": [
        "# Unzip it\n",
        "!unzip 3c055e822d5b11ea.zip"
      ],
      "execution_count": 3,
      "outputs": [
        {
          "output_type": "stream",
          "text": [
            "Archive:  3c055e822d5b11ea.zip\n",
            "  inflating: sample_submission.csv   \n",
            "  inflating: test.csv                \n",
            "  inflating: train.csv               \n"
          ],
          "name": "stdout"
        }
      ]
    },
    {
      "cell_type": "code",
      "metadata": {
        "id": "uM2Fpi8-DoXY",
        "colab_type": "code",
        "colab": {}
      },
      "source": [
        "raw_train = pd.read_csv(\"train.csv\")"
      ],
      "execution_count": 0,
      "outputs": []
    },
    {
      "cell_type": "code",
      "metadata": {
        "id": "9Ieug43MDrQY",
        "colab_type": "code",
        "colab": {}
      },
      "source": [
        "def get_category_names(df, column_name):\n",
        "    '''\n",
        "    Column passed must be categorical\n",
        "    '''\n",
        "    unique_names_dict = dict(df[column_name].value_counts())\n",
        "    unique_names = list(unique_names_dict.keys())\n",
        "    \n",
        "    _length = len(unique_names)\n",
        "    return (_length, unique_names)\n",
        "\n",
        "def replace_small_categorical_data(df, column_name, categorical_names):\n",
        "    copy_frame = df.copy(deep=True)\n",
        "    \n",
        "    copy_frame[column_name].replace(categorical_names, [x for x in range(len(categorical_names))], inplace=True)\n",
        "    \n",
        "    return copy_frame  \n",
        "\n",
        "cat_names = [\"Minor_Damage_And_Injuries\", \"Significant_Damage_And_Fatalities\", \"Significant_Damage_And_Serious_Injuries\", \"Highly_Fatal_And_Damaging\"]\n",
        "train_data = replace_small_categorical_data(raw_train, 'Severity', cat_names)"
      ],
      "execution_count": 0,
      "outputs": []
    },
    {
      "cell_type": "code",
      "metadata": {
        "id": "Fjm2StYcDrm1",
        "colab_type": "code",
        "colab": {}
      },
      "source": [
        "y_dat = train_data['Severity']\n",
        "x_dat = train_data.drop('Severity', axis=1)"
      ],
      "execution_count": 0,
      "outputs": []
    },
    {
      "cell_type": "code",
      "metadata": {
        "id": "XECcvh_e2ows",
        "colab_type": "code",
        "colab": {}
      },
      "source": [
        "sc = StandardScaler()\n",
        "x_final = sc.fit_transform(x_dat)"
      ],
      "execution_count": 0,
      "outputs": []
    },
    {
      "cell_type": "code",
      "metadata": {
        "id": "PcjyRkrJ46KP",
        "colab_type": "code",
        "colab": {}
      },
      "source": [
        "y_dat = np.array(y_dat)\n",
        "y_dat = y_dat.reshape((-1,1))"
      ],
      "execution_count": 0,
      "outputs": []
    },
    {
      "cell_type": "code",
      "metadata": {
        "id": "eSgBEPcGD2tx",
        "colab_type": "code",
        "colab": {}
      },
      "source": [
        "y_final = to_categorical(y_dat, num_classes=4)"
      ],
      "execution_count": 0,
      "outputs": []
    },
    {
      "cell_type": "code",
      "metadata": {
        "id": "IolgHL2pGUod",
        "colab_type": "code",
        "colab": {}
      },
      "source": [
        "trainX, testX, trainY, testY = train_test_split(x_final, y_final, test_size=0.15)"
      ],
      "execution_count": 0,
      "outputs": []
    },
    {
      "cell_type": "code",
      "metadata": {
        "id": "G42n_8ShD-nM",
        "colab_type": "code",
        "colab": {}
      },
      "source": [
        "def train_model(X, y, epochs, verbose=True):\n",
        "  \"\"\"\n",
        "  X: [10000, 11]\n",
        "  y: [10000, 1]\n",
        "  \"\"\"\n",
        "  weights={\n",
        "      \"hidden_1\": tf.Variable(tf.random_normal([11, 11]) * tf.sqrt(1./11)),\n",
        "      \"hidden_2\": tf.Variable(tf.random_normal([11, 11]) * tf.sqrt(1./11)),\n",
        "      \"output\": tf.Variable(tf.random_normal([11, 4]) * tf.sqrt(1./4)),\n",
        "  }\n",
        "\n",
        "  biases = {\n",
        "      \"bias_1\": tf.Variable(tf.random_normal([11])),\n",
        "      \"bias_2\": tf.Variable(tf.random_normal([11])),\n",
        "      \"output\": tf.Variable(tf.random_normal([4]))\n",
        "  }\n",
        "\n",
        "  x_pl = tf.placeholder(tf.float32, shape=(None, 11))\n",
        "  y_pl = tf.placeholder(tf.float32, shape=(None, 4))\n",
        "\n",
        "  h1 = tf.nn.relu(tf.add(tf.matmul(x_pl, weights[\"hidden_1\"]), biases[\"bias_1\"]))\n",
        "  h2 = tf.nn.relu(tf.add(tf.matmul(h1, weights[\"hidden_2\"]), biases[\"bias_2\"]))\n",
        "  out = tf.add(tf.matmul(h1, weights[\"output\"]), biases[\"output\"])\n",
        "\n",
        "  cost = tf.nn.softmax_cross_entropy_with_logits_v2(logits=out, labels=y_pl)\n",
        "  optim = tf.train.AdamOptimizer().minimize(cost)\n",
        "\n",
        "  init = tf.global_variables_initializer()\n",
        "  costs, accs = list(), list()\n",
        "\n",
        "  # Train the model\n",
        "  with tf.Session() as sess:\n",
        "    sess.run(init)\n",
        "\n",
        "    for epoch in range(epochs):\n",
        "      opt, cst = sess.run([optim, cost], feed_dict={x_pl:X, y_pl:y})\n",
        "      costs.append(cst)\n",
        "      accuracy = tf.equal(tf.argmax(out, 1), tf.argmax(y_pl, 1))\n",
        "      accuracy = tf.reduce_mean(tf.cast(accuracy, 'float'))\n",
        "      accuracy = accuracy.eval({x_pl: testX, y_pl: testY})\n",
        "      accs.append(accuracy)\n",
        "      if verbose:\n",
        "        if epoch % 100 == 0:\n",
        "          print(\"EPOCH: {} / {} | ACCURACY: {}\".format(epoch, epochs, accuracy))\n",
        "  \n",
        "  return costs, accs"
      ],
      "execution_count": 0,
      "outputs": []
    },
    {
      "cell_type": "code",
      "metadata": {
        "id": "hsDSs_5pEBCo",
        "colab_type": "code",
        "colab": {
          "base_uri": "https://localhost:8080/",
          "height": 351
        },
        "outputId": "17aea1d7-e4cf-47c6-cf03-e133ceb6ed7c"
      },
      "source": [
        "losses,accs = train_model(trainX, trainY, epochs=2000)"
      ],
      "execution_count": 15,
      "outputs": [
        {
          "output_type": "stream",
          "text": [
            "EPOCH: 0 / 2000 | ACCURACY: 0.3186666667461395\n",
            "EPOCH: 100 / 2000 | ACCURACY: 0.3733333349227905\n",
            "EPOCH: 200 / 2000 | ACCURACY: 0.4566666781902313\n",
            "EPOCH: 300 / 2000 | ACCURACY: 0.527999997138977\n",
            "EPOCH: 400 / 2000 | ACCURACY: 0.5746666789054871\n",
            "EPOCH: 500 / 2000 | ACCURACY: 0.6299999952316284\n",
            "EPOCH: 600 / 2000 | ACCURACY: 0.6573333144187927\n",
            "EPOCH: 700 / 2000 | ACCURACY: 0.7053333520889282\n",
            "EPOCH: 800 / 2000 | ACCURACY: 0.7400000095367432\n",
            "EPOCH: 900 / 2000 | ACCURACY: 0.7713333368301392\n",
            "EPOCH: 1000 / 2000 | ACCURACY: 0.7946666479110718\n",
            "EPOCH: 1100 / 2000 | ACCURACY: 0.8100000023841858\n",
            "EPOCH: 1200 / 2000 | ACCURACY: 0.8286666870117188\n",
            "EPOCH: 1300 / 2000 | ACCURACY: 0.8473333120346069\n",
            "EPOCH: 1400 / 2000 | ACCURACY: 0.8653333187103271\n",
            "EPOCH: 1500 / 2000 | ACCURACY: 0.878000020980835\n",
            "EPOCH: 1600 / 2000 | ACCURACY: 0.8886666893959045\n",
            "EPOCH: 1700 / 2000 | ACCURACY: 0.9020000100135803\n",
            "EPOCH: 1800 / 2000 | ACCURACY: 0.9086666703224182\n",
            "EPOCH: 1900 / 2000 | ACCURACY: 0.9139999747276306\n"
          ],
          "name": "stdout"
        }
      ]
    },
    {
      "cell_type": "code",
      "metadata": {
        "id": "e3UOvc4jGrTv",
        "colab_type": "code",
        "colab": {}
      },
      "source": [
        "# lss=[]\n",
        "# for i in range(len(losses)):\n",
        "#   c_lst = np.array(losses[i])\n",
        "#   lss.append(c_lst.sum())\n",
        "acc = [100*x for x in accs]"
      ],
      "execution_count": 0,
      "outputs": []
    },
    {
      "cell_type": "code",
      "metadata": {
        "id": "25hYW-nCH9ZF",
        "colab_type": "code",
        "colab": {
          "base_uri": "https://localhost:8080/",
          "height": 312
        },
        "outputId": "68bb3f7f-14b9-4581-f8ce-b01319b96980"
      },
      "source": [
        "plt.plot(acc)\n",
        "plt.xlabel(\"Epochs\")\n",
        "plt.ylabel(\"Accuracy (%)\")\n",
        "plt.title(\"Accuracy v/s Epochs\")"
      ],
      "execution_count": 27,
      "outputs": [
        {
          "output_type": "execute_result",
          "data": {
            "text/plain": [
              "Text(0.5, 1.0, 'Accuracy v/s Epochs')"
            ]
          },
          "metadata": {
            "tags": []
          },
          "execution_count": 27
        },
        {
          "output_type": "display_data",
          "data": {
            "image/png": "[encoded data removed]",
            "text/plain": [
              "<Figure size 432x288 with 1 Axes>"
            ]
          },
          "metadata": {
            "tags": []
          }
        }
      ]
    }
  ]
}